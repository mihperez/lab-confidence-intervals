{
 "cells": [
  {
   "cell_type": "markdown",
   "metadata": {},
   "source": [
    "# Confidence Intervals"
   ]
  },
  {
   "cell_type": "code",
   "execution_count": 1,
   "metadata": {},
   "outputs": [],
   "source": [
    "import numpy as np\n",
    "import matplotlib.pyplot as plt\n",
    "import pandas as pd\n",
    "import scipy.stats as st"
   ]
  },
  {
   "cell_type": "markdown",
   "metadata": {},
   "source": [
    "## Challenge 1\n",
    "We want to estimate the average size of the men of a country with a confidence level of 80%. Assuming that the standard deviation of the sizes in the population is 4, get the confidence interval with a sample of men selected randomly, whose heights are:\n",
    "\n",
    "````\n",
    "heights = [167, 167, 168, 168, 168, 169, 171, 172, 173, 175, 175, 175, 177, 182, 195]\n",
    "````\n",
    "\n",
    "**Hint**: function `stats.norm.interval` from `scipy` can help you get through this exercise. "
   ]
  },
  {
   "cell_type": "code",
   "execution_count": 14,
   "metadata": {},
   "outputs": [
    {
     "data": {
      "text/plain": [
       "(172.14308590115726, 174.79024743217607)"
      ]
     },
     "execution_count": 14,
     "metadata": {},
     "output_type": "execute_result"
    }
   ],
   "source": [
    "heights = [167, 167, 168, 168, 168, 169, 171, 172, 173, 175, 175, 175, 177, 182, 195]\n",
    "\n",
    "s=np.std(heights, ddof=1)#we are using the sample of the intere population\n",
    "std=4\n",
    "mean=np.mean(heights)\n",
    "n=len(heights)\n",
    "\n",
    "st.norm.interval(0.8, loc=mean, scale= std/np.sqrt(n))"
   ]
  },
  {
   "cell_type": "markdown",
   "metadata": {},
   "source": [
    "## Challenge 2 \n",
    "In a sample of 105 shops selected randomly from an area, we note that 27 of them have had losses in this month. Get an interval for the proportion of businesses in the area with losses to a confidence level of 80% and a confidence level of 90%.\n",
    "\n",
    "**Hint**: function `stats.norm.interval` from `scipy` can help you get through this exercise. "
   ]
  },
  {
   "cell_type": "code",
   "execution_count": 31,
   "metadata": {},
   "outputs": [
    {
     "name": "stdout",
     "output_type": "stream",
     "text": [
      "The intervals for a confidence rate of 80% is  (0.20186807931327289, 0.31241763497244135)\n",
      "The intervals for a confidence rate of 90% is  (0.18601553842657947, 0.3282701758591347)\n"
     ]
    }
   ],
   "source": [
    "#mean=27/105=25%\n",
    "\n",
    "house_list=[]\n",
    "count_lost=0\n",
    "\n",
    "for i in range(105):\n",
    "    count_lost=count_lost+1\n",
    "    if count_lost<28:\n",
    "        house_list.append(1)\n",
    "    else:\n",
    "        house_list.append(0)\n",
    "    \n",
    "s=np.std(house_list, ddof=1)\n",
    "mean=np.mean(house_list)\n",
    "n=105\n",
    "\n",
    "\n",
    "print(\"The intervals for a confidence rate of 80% is \",st.t.interval(0.8, n-1, loc=mean, scale= s/np.sqrt(n)))\n",
    "\n",
    "print(\"The intervals for a confidence rate of 90% is \",st.t.interval(0.9, n-1,  loc=mean, scale= s/np.sqrt(n)))\n",
    "\n",
    "\n",
    "#we need to use the t-distribution since I dont know the std of the intire population\n"
   ]
  },
  {
   "cell_type": "markdown",
   "metadata": {},
   "source": [
    "## Bonus Challenge\n",
    "The error level or sampling error for the first challenge is given by the following expression:\n",
    "$$Error = z_{\\frac{\\alpha}{2}}\\frac{\\sigma}{\\sqrt n}$$\n",
    "Where z represents the value for N(0,1)\n",
    "\n",
    "\n",
    "Suppose that with the previous data of challenge 1, and with a confidence level of\n",
    "99% (that is, almost certainly) we want to estimate the average population size, so that the error level committed is not greater than half a centimeter.\n",
    "\n",
    "#### 1.- Determine what size the selected sample of men should be."
   ]
  },
  {
   "cell_type": "code",
   "execution_count": 43,
   "metadata": {},
   "outputs": [
    {
     "name": "stdout",
     "output_type": "stream",
     "text": [
      "428.48481940240146 428.4498956395151\n"
     ]
    }
   ],
   "source": [
    "\n",
    "#n = (z*sigma/error)**2\n",
    "#confidence level is 99%\n",
    "c=0.99\n",
    "z = st.norm.ppf(1-((1-c)/2))\n",
    "#print(z)\n",
    "\n",
    "sigma=4 #std from first exercise\n",
    "error=0.5\n",
    "\n",
    "n = (z*sigma/error)**2\n",
    "#print(n)\n",
    "\n",
    "#now that we know the first N, let's use as a degree of freedom:\n",
    "\n",
    "t1 = st.t.ppf(1-((1-0.99)/2),n-1)\n",
    "\n",
    "#going back to the formula with a new z or t1:\n",
    "n1 = (t1*sigma/error)**2\n",
    "#print(n1)\n",
    "\n",
    "#calculate another round of t with the previous n:\n",
    "t2 = st.t.ppf(1-((1-0.99)/2),n1-1)\n",
    "n2 = (t2*sigma/error)**2\n",
    "\n",
    "print (n1,n2)\n",
    "\n",
    "#Now, because the value does not change a lot, I dont need to add more loopings. The sample size should be at least 429"
   ]
  },
  {
   "cell_type": "markdown",
   "metadata": {},
   "source": [
    "#### 2.- For the second challenge, we have the following error:\n",
    "$$ Error = z_{\\frac{\\alpha}{2}}\\sqrt{\\frac{p\\times q}{n}} $$\n",
    "#### Determine the sample size required to not exceed an error of 1% with a confidence of 80%."
   ]
  },
  {
   "cell_type": "code",
   "execution_count": 54,
   "metadata": {},
   "outputs": [
    {
     "name": "stdout",
     "output_type": "stream",
     "text": [
      "3138.592343308521 3138.5917860888685\n"
     ]
    }
   ],
   "source": [
    "error=0.01\n",
    "p=np.mean(house_list)\n",
    "q=1-p\n",
    "\n",
    "t0 = st.norm.ppf(1-((1-0.8)/2))\n",
    "t0\n",
    "\n",
    "#z is the same thing of t0\n",
    "n=(p*q) / (error/t0)**2 \n",
    "n\n",
    "\n",
    "#calculate another round of t with the previous n:\n",
    "t1 = st.t.ppf(1-((1-0.8)/2),n-1)\n",
    "n1 = (p*q) / (error/t1)**2 \n",
    "n1\n",
    "\n",
    "#calculate another round of t with the previous n:\n",
    "t2 = st.t.ppf(1-((1-0.8)/2),n1-1)\n",
    "n2 = (p*q) / (error/t2)**2 \n",
    "n2\n",
    "\n",
    "print(n1, n2) #Because it is not changing, I can assume this sample. We would need 3139 items in my sample.\n",
    "\n"
   ]
  },
  {
   "cell_type": "markdown",
   "metadata": {},
   "source": [
    "## Bonus Challenge\n",
    "\n",
    "Let's consider the following problem:\n",
    "\n",
    "Build a confidence interval of 94% for the real difference between the durations of two brands of spotlights, if a sample of 40 spotlights taken randomly from the first mark gave an average duration of 418 hours, and a sample of 50 bulbs of another brand gave a duration average of 402 hours. The standard deviations of the two\n",
    "populations are 26 hours and 22 hours, respectively.\n",
    "\n",
    "Sometimes, we will be interested in the difference of two different groups of random variables. We can also build a confidence interval for that! We have some different cases regarding the variance but for this specific case (the variance are different and known), we have that:\n",
    "\n",
    "$$\\overline{X} - \\overline{Y}  \\sim N(\\mu_{X} - \\mu_{Y} , \\sqrt{\\frac{\\sigma_{X}^2}{n_X}+\\frac{\\sigma_{Y}^2}{n_Y}})$$\n",
    "\n",
    "Solve the problem with this information."
   ]
  },
  {
   "cell_type": "code",
   "execution_count": null,
   "metadata": {},
   "outputs": [],
   "source": [
    "alpha=0.94\n",
    "\n",
    "nx=40\n",
    "meanx=418\n",
    "sigmax=26\n",
    "\n",
    "ny=50\n",
    "meany=402\n",
    "sigmay=22\n",
    "\n",
    "#For independent random variables, the distribution of the means\n",
    "#of the sampling distributions tends toward a Gaussian\n",
    "#distribution with mean equal to the mean of the original\n",
    "#population and standard deviation equal to the standard\n",
    "#deviation of the original population divided by the sqrt of the size\n",
    "#of the samples, irrespective of the shape of the population\n",
    "#distribution.\n",
    "\n",
    "(meanx)"
   ]
  }
 ],
 "metadata": {
  "kernelspec": {
   "display_name": "Python 3 (ipykernel)",
   "language": "python",
   "name": "python3"
  },
  "language_info": {
   "codemirror_mode": {
    "name": "ipython",
    "version": 3
   },
   "file_extension": ".py",
   "mimetype": "text/x-python",
   "name": "python",
   "nbconvert_exporter": "python",
   "pygments_lexer": "ipython3",
   "version": "3.9.13"
  }
 },
 "nbformat": 4,
 "nbformat_minor": 2
}
